{
 "cells": [
  {
   "cell_type": "code",
   "execution_count": null,
   "id": "8385d3d7",
   "metadata": {},
   "outputs": [],
   "source": [
    "import time, sagemaker\n",
    "from sagemaker.pytorch import PyTorchModel\n",
    "from sagemaker.serializers import IdentitySerializer\n",
    "from sagemaker.deserializers import JSONDeserializer\n",
    "\n",
    "role = sagemaker.get_execution_role()\n",
    "\n",
    "# 1) 방금 fit한 estimator에서 model_data(S3 model.tar.gz) 얻기\n",
    "model_data_s3 = estimator.model_data\n",
    "print(\"model_data:\", model_data_s3)  # s3://.../model.tar.gz 이어야 함\n",
    "\n",
    "# 2) 실시간용 스크립트로 모델 정의 (model_fn/input_fn/predict_fn/output_fn 있는 파일)\n",
    "rt_model = PyTorchModel(\n",
    "    model_data=model_data_s3,\n",
    "    role=role,\n",
    "    entry_point=\"realtime_infer.py\",   # ★ 엔드포인트용\n",
    "    source_dir=\".\",                    # realtime_infer.py + requirements.txt 위치\n",
    "    framework_version=\"2.0.0\",\n",
    "    py_version=\"py310\",\n",
    ")\n",
    "\n",
    "# 3) 배포\n",
    "endpoint_name = f\"say1-5team-skin-endpoint-{time.strftime('%Y-%m-%d-%H-%M-%S')}\"\n",
    "predictor = rt_model.deploy(\n",
    "    initial_instance_count=1,\n",
    "    instance_type=\"ml.g4dn.xlarge\",    # YOLO면 GPU 권장\n",
    "    endpoint_name=endpoint_name,\n",
    "    tags=[{\"Key\":\"project\",\"Value\":\"pre-5team\"}],\n",
    ")\n",
    "\n",
    "# 4) 호출 설정 (바이너리 JPEG -> JSON 응답)\n",
    "predictor.serializer = IdentitySerializer(\"image/jpeg\")\n",
    "predictor.deserializer = JSONDeserializer()\n",
    "\n",
    "print(\"✅ Endpoint:\", predictor.endpoint_name)\n"
   ]
  }
 ],
 "metadata": {
  "kernelspec": {
   "display_name": "Python 3",
   "language": "python",
   "name": "python3"
  },
  "language_info": {
   "name": "python",
   "version": "3.12.10"
  }
 },
 "nbformat": 4,
 "nbformat_minor": 5
}
