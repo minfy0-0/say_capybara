{
 "cells": [
  {
   "cell_type": "code",
   "execution_count": null,
   "id": "9003040e-d224-4b50-aeab-32442528db8e",
   "metadata": {
    "execution": {
     "iopub.execute_input": "2025-08-19T01:59:55.381602Z",
     "iopub.status.busy": "2025-08-19T01:59:55.381224Z",
     "iopub.status.idle": "2025-08-19T01:59:55.444153Z",
     "shell.execute_reply": "2025-08-19T01:59:55.443466Z",
     "shell.execute_reply.started": "2025-08-19T01:59:55.381570Z"
    },
    "scrolled": true
   },
   "outputs": [],
   "source": [
    "# run_sagemaker_inference.py (boto3 업로드 버전)\n",
    "import os\n",
    "import boto3\n",
    "import sagemaker\n",
    "from sagemaker.pytorch import PyTorch\n",
    "from datetime import datetime\n",
    "\n",
    "# ===== 사용자 환경 설정 =====\n",
    "S3_BUCKET_NAME = \"say1-5team-bucket\"\n",
    "S3_PROJECT_PREFIX = \"yolo-final-skin-job\"\n",
    "\n",
    "# ===== SageMaker 세션 & 역할 =====\n",
    "sagemaker_session = sagemaker.Session()  # default_bucket 지정하지 않음(불필요한 S3 테스트 방지)\n",
    "role = sagemaker.get_execution_role()\n",
    "print(f\"사용 S3 버킷: s3://{S3_BUCKET_NAME}\")\n",
    "print(f\"사용 IAM 역할: {role}\")\n",
    "\n",
    "# ===== 로컬 경로 =====\n",
    "local_data_path = './data'        # 추론 대상 이미지 폴더\n",
    "local_model_path = './best.pt'    # YOLO 학습 완료된 모델\n",
    "local_script_path = './inference.py'  # entry_point\n"
   ]
  },
  {
   "cell_type": "code",
   "execution_count": 19,
   "id": "f50c434b-5f1f-4c2d-8132-38f35556ff63",
   "metadata": {
    "execution": {
     "iopub.execute_input": "2025-08-19T01:59:59.912121Z",
     "iopub.status.busy": "2025-08-19T01:59:59.911784Z",
     "iopub.status.idle": "2025-08-19T01:59:59.928879Z",
     "shell.execute_reply": "2025-08-19T01:59:59.928150Z",
     "shell.execute_reply.started": "2025-08-19T01:59:59.912095Z"
    }
   },
   "outputs": [
    {
     "name": "stdout",
     "output_type": "stream",
     "text": [
      "📌 데이터 S3 URI: s3://say1-5team-bucket/yolo-final-skin-job/input/data\n",
      "📌 모델   S3 URI: s3://say1-5team-bucket/yolo-final-skin-job/input/model\n"
     ]
    }
   ],
   "source": [
    "# ===== boto3로 업로드 =====\n",
    "s3 = boto3.client('s3')\n",
    "\n",
    "import os, hashlib, boto3\n",
    "from botocore.exceptions import ClientError\n",
    "\n",
    "s3 = boto3.client(\"s3\")\n",
    "\n",
    "# ===== 설정 =====\n",
    "S3_BUCKET_NAME = \"say1-5team-bucket\"\n",
    "S3_PROJECT_PREFIX = \"yolo-final-skin-job\"\n",
    "\n",
    "data_prefix  = f\"{S3_PROJECT_PREFIX}/input/data\"\n",
    "model_prefix = f\"{S3_PROJECT_PREFIX}/input/model\"\n",
    "\n",
    "# ✅ 이미 업로드 되어 있다고 가정 → 업로드 함수 호출 주석 처리\n",
    "# sync_dir_to_s3(\"./data\", S3_BUCKET_NAME, data_prefix, force=False, compare_etag=True)\n",
    "# upload_file_if_needed(\"./best.pt\", S3_BUCKET_NAME, f\"{model_prefix}/best.pt\", force=False, compare_etag=True)\n",
    "\n",
    "# ===== S3 URI 직접 지정 =====\n",
    "s3_input_data_uri  = f\"s3://{S3_BUCKET_NAME}/{data_prefix}\"\n",
    "s3_input_model_uri = f\"s3://{S3_BUCKET_NAME}/{model_prefix}\"\n",
    "\n",
    "print(\"📌 데이터 S3 URI:\", s3_input_data_uri)\n",
    "print(\"📌 모델   S3 URI:\", s3_input_model_uri)\n",
    "\n"
   ]
  },
  {
   "cell_type": "code",
   "execution_count": null,
   "id": "3891d10d-e62a-4606-8a22-70281477c627",
   "metadata": {
    "execution": {
     "iopub.execute_input": "2025-08-19T05:34:21.246713Z",
     "iopub.status.busy": "2025-08-19T05:34:21.246343Z",
     "iopub.status.idle": "2025-08-19T05:48:16.573074Z",
     "shell.execute_reply": "2025-08-19T05:48:16.572228Z",
     "shell.execute_reply.started": "2025-08-19T05:34:21.246684Z"
    },
    "scrolled": true
   },
   "outputs": [],
   "source": [
    "# ===== requirements.txt 생성 =====\n",
    "with open(\"requirements.txt\", \"w\") as f:\n",
    "    f.write(\"ultralytics\\n\")\n",
    "    f.write(\"opencv-python\\n\")\n",
    "\n",
    "# ===== Estimator 설정 =====\n",
    "estimator = PyTorch(\n",
    "    entry_point=os.path.basename(local_script_path),\n",
    "    source_dir='.',\n",
    "    role=role,\n",
    "    instance_count=1,\n",
    "    instance_type='ml.g4dn.2xlarge',\n",
    "    framework_version='2.0.0',\n",
    "    py_version='py310',\n",
    "    sagemaker_session=sagemaker_session,\n",
    "    output_path=f\"s3://{S3_BUCKET_NAME}/{S3_PROJECT_PREFIX}/output\",\n",
    "    requirements_file=\"requirements.txt\",\n",
    "    tags=[{\"Key\": \"project\", \"Value\": \"pre-5team\"}],\n",
    ")\n",
    "\n",
    "# ===== 채널 매핑 =====\n",
    "# inference.py에서 /opt/ml/input/data/training, /opt/ml/input/data/model 기준으로 읽도록 작성되어 있어야 함\n",
    "inputs = {\n",
    "    \"training\": s3_input_data_uri,\n",
    "    \"model\":    s3_input_model_uri\n",
    "}\n",
    "\n",
    "# ===== 실행 =====\n",
    "training_job_name = f\"aws-say1-5team-{datetime.now().strftime('%Y%m%d-%H%M%S')}\"\n",
    "print(f\"SageMaker 추론 작업 시작: {training_job_name}\")\n",
    "estimator.fit(inputs=inputs, job_name=training_job_name)\n",
    "\n",
    "print(f\"작업 완료! 결과는 s3://{S3_BUCKET_NAME}/{S3_PROJECT_PREFIX}/output 에 저장됨\")\n",
    "\n",
    "# ===== 로그 스트리밍 =====\n",
    "sess = sagemaker.Session()\n",
    "sess.logs_for_job(job_name=training_job_name, wait=True)\n"
   ]
  }
 ],
 "metadata": {
  "kernelspec": {
   "display_name": "Python 3 (ipykernel)",
   "language": "python",
   "name": "python3"
  },
  "language_info": {
   "codemirror_mode": {
    "name": "ipython",
    "version": 3
   },
   "file_extension": ".py",
   "mimetype": "text/x-python",
   "name": "python",
   "nbconvert_exporter": "python",
   "pygments_lexer": "ipython3",
   "version": "3.12.9"
  }
 },
 "nbformat": 4,
 "nbformat_minor": 5
}
