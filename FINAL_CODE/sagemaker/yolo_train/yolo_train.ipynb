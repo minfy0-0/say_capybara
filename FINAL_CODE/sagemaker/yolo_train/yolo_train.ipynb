{
 "cells": [
  {
   "cell_type": "code",
   "execution_count": null,
   "id": "1a306e67",
   "metadata": {},
   "outputs": [],
   "source": [
    "from ultralytics import YOLO\n",
    "import os\n",
    "import torch\n",
    "import shutil\n",
    "import glob\n",
    "\n",
    "# --- 1. 환경 확인 및 설정 ---\n",
    "print(f\"GPU 사용 가능 여부: {torch.cuda.is_available()}\")\n",
    "if torch.cuda.is_available():\n",
    "    print(f\"현재 GPU: {torch.cuda.get_device_name(0)}\")\n",
    "else:\n",
    "    print(\"현재 사용 중인 장치: CPU\")\n",
    "\n",
    "\n",
    "# --- 2. 모델 학습 ---\n",
    "def train_yolo_on_sagemaker():\n",
    "    # 2-1. 모델 로드\n",
    "    # yolov8n.pt는 가장 작고 빠른 모델입니다.\n",
    "    model = YOLO('yolov8n.pt')\n",
    "    # 2-3. 모델 학습 실행\n",
    "    results = model.train(\n",
    "        data='./data.yaml',\n",
    "        epochs=50,\n",
    "        imgsz=640,\n",
    "        project='result/detect',  # 결과는 노트북 인스턴스 내에 저장됩니다.\n",
    "        name='skin_disease_sagemaker_run'\n",
    "    )\n",
    "    \n",
    "    print(\"\\n모델 학습이 완료되었습니다!\")\n",
    "    print(f\"학습 결과는 노트북 인스턴스의 '{results.save_dir}' 폴더에 저장되었습니다.\")\n",
    "    \n",
    "    # --- 2-5. 결과물을 S3에 업로드 ---\n",
    "    result_folder_name = os.path.basename(results.save_dir)\n",
    "    s3_output_path = f\"s3://say1-5team-bucket/yolo-results/{result_folder_name}\"\n",
    "    \n",
    "    print(f\"학습 결과물을 S3에 백업합니다: {s3_output_path}\")\n",
    "    \n",
    "    os.system(f\"aws s3 cp --recursive {results.save_dir} {s3_output_path}\")\n",
    "    print(\"S3 백업 완료!\")\n",
    "\n",
    "\n",
    "# --- 3. 스크립트 실행 ---\n",
    "if __name__ == '__main__':\n",
    "    train_yolo_on_sagemaker()"
   ]
  }
 ],
 "metadata": {
  "language_info": {
   "name": "python"
  }
 },
 "nbformat": 4,
 "nbformat_minor": 5
}
