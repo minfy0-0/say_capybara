{
 "cells": [
  {
   "cell_type": "code",
   "execution_count": null,
   "id": "9ca8a11e-4768-4a82-8b7c-3baa69333987",
   "metadata": {},
   "outputs": [],
   "source": [
    "import sagemaker\n",
    "from sagemaker.pytorch import PyTorch\n",
    "from sagemaker.inputs import TrainingInput\n",
    "from sagemaker import get_execution_role\n",
    "import time\n",
    "\n",
    "bucket = \"say1-5team-bucket\"\n",
    "role = get_execution_role()\n",
    "\n",
    "est = PyTorch(\n",
    "    entry_point=\"train.py\",\n",
    "    source_dir=\".\",\n",
    "    role=role,\n",
    "    framework_version=\"2.1\",   # 너 환경에 맞게. (2.2 써도 됨. train.py도 그에 맞게)\n",
    "    py_version=\"py310\",\n",
    "    instance_count=1,\n",
    "    instance_type=\"ml.g4dn.2xlarge\",\n",
    "    hyperparameters={           # train.py의 argparse와 키 맞추기!\n",
    "        \"epochs\": 30,\n",
    "        \"batch-size\": 64,\n",
    "        \"lr\": 0.001,\n",
    "    },\n",
    "    output_path=f\"s3://{bucket}/densenet-output/\",\n",
    "    base_job_name=\"densenet121-skin\",\n",
    "    tags=[{\"Key\":\"project\",\"Value\":\"pre-5team\"}],\n",
    ")\n",
    "\n",
    "inputs = {\n",
    "    \"train\": TrainingInput(f\"s3://{bucket}/densenet-training-data/train\"),\n",
    "    \"val\":   TrainingInput(f\"s3://{bucket}/densenet-training-data/val\"),\n",
    "    \"test\":  TrainingInput(f\"s3://{bucket}/densenet-training-data/test\"),\n",
    "}\n",
    "\n",
    "job_name = f\"densenet121-skin-job-{time.strftime('%Y-%m-%d-%H-%M-%S')}\"\n",
    "est.fit(inputs, job_name=job_name)\n",
    "\n",
    "desc = est.latest_training_job.describe()\n",
    "print(\"ModelArtifacts:\", desc[\"ModelArtifacts\"][\"S3ModelArtifacts\"])\n"
   ]
  },
  {
   "cell_type": "code",
   "execution_count": null,
   "id": "3f3b4e79-c9d1-4b6d-bd94-a654d83a4ef9",
   "metadata": {},
   "outputs": [],
   "source": [
    "import sagemaker, boto3\n",
    "from sagemaker.pytorch import PyTorch\n",
    "\n",
    "job_name = \"densenet121-skin-job-2025-08-20-06-18-42\"\n",
    "\n",
    "# 상태만 빠르게 체크\n",
    "sm = boto3.client(\"sagemaker\")\n",
    "print(sm.describe_training_job(TrainingJobName=job_name)[\"TrainingJobStatus\"])\n",
    "\n",
    "# 로그 스트리밍 (기존 잡에 attach)\n",
    "sess = sagemaker.Session()\n",
    "est = PyTorch.attach(training_job_name=job_name, sagemaker_session=sess)\n",
    "est.latest_training_job.wait(logs=True)  # 여기서 CloudWatch 로그가 쭉 출력됨\n"
   ]
  },
  {
   "cell_type": "code",
   "execution_count": null,
   "id": "a9fbf165-fb37-4289-8f1d-c33bfb27cbca",
   "metadata": {},
   "outputs": [],
   "source": [
    "# A. 이 잡이 실제로 쓴 소스 코드 묶음(SM_MODULE_DIR) 경로\n",
    "print(densenet_estimator.latest_training_job.describe()['DebugHookConfig'])\n",
    "print(densenet_estimator.latest_training_job.describe()['HyperParameters'])\n",
    "print(\"module_dir:\", densenet_estimator.latest_training_job.describe()['AlgorithmSpecification']['TrainingImage'])\n",
    "desc = densenet_estimator.latest_training_job.describe()\n",
    "\n",
    "# 1) 인풋 데이터(S3) 경로 확인\n",
    "print(\"=== InputDataConfig ===\")\n",
    "for ch in desc[\"InputDataConfig\"]:\n",
    "    print(f\"- channel: {ch['ChannelName']}, S3Uri: {ch['DataSource']['S3DataSource']['S3Uri']}\")\n",
    "\n",
    "# 2) 컨테이너 내부에서 보이는 경로 (= 마운트 위치)\n",
    "for ch in desc[\"InputDataConfig\"]:\n",
    "    print(f\"- inside container: /opt/ml/input/data/{ch['ChannelName']}\")\n",
    "\n",
    "\n",
    "# B. CloudWatch 로그에서 [SAVE] 라인이 있는지 확인했나요?\n",
    "# (train.py에 아래와 같은 프린트가 있을 경우)\n",
    "# [SAVE] New best (val acc=0.1234) → /opt/ml/model/model.pth\n"
   ]
  }
 ],
 "metadata": {
  "kernelspec": {
   "display_name": "conda_tensorflow2_p310",
   "language": "python",
   "name": "conda_tensorflow2_p310"
  },
  "language_info": {
   "codemirror_mode": {
    "name": "ipython",
    "version": 3
   },
   "file_extension": ".py",
   "mimetype": "text/x-python",
   "name": "python",
   "nbconvert_exporter": "python",
   "pygments_lexer": "ipython3",
   "version": "3.10.18"
  }
 },
 "nbformat": 4,
 "nbformat_minor": 5
}
