{
 "cells": [
  {
   "cell_type": "code",
   "execution_count": null,
   "id": "aff86e92-3cc4-4efd-8fe0-535e6242daa2",
   "metadata": {},
   "outputs": [],
   "source": [
    "import sagemaker\n",
    "from sagemaker.pytorch import PyTorch\n",
    "from sagemaker.inputs import TrainingInput\n",
    "from sagemaker import get_execution_role\n",
    "import time\n",
    "\n",
    "# 경로는 기존과 동일하게 유지합니다.\n",
    "bucket = \"say1-5team-bucket\"\n",
    "role = get_execution_role()\n",
    "\n",
    "est = PyTorch(\n",
    "    entry_point=\"train-vit.py\",          # 아래에서 생성할 ViT 훈련 스크립트 파일명\n",
    "    source_dir=\".\",\n",
    "    role=role,\n",
    "    framework_version=\"2.1\",\n",
    "    py_version=\"py310\",\n",
    "    instance_count=1,\n",
    "    instance_type=\"ml.g4dn.2xlarge\",      # 16GB VRAM\n",
    "    hyperparameters={\n",
    "        \"backbone\": \"vit_b_16\",           # 훈련할 모델을 ViT로 변경\n",
    "        \"epochs\": 30,\n",
    "        \"freeze-epochs\": 2,\n",
    "        \"img-size\": 224,                  # ViT 기본 권장 해상도로 변경\n",
    "        \"batch-size\": 12,                 # ViT 모델 크기를 고려해 배치 사이즈 조정 (OOM 방지)\n",
    "        \"lr\": 3e-4,\n",
    "        \"weight-decay\": 1e-4,\n",
    "        \"label-smoothing\": 0.05,\n",
    "        \"seed\": 42,\n",
    "    },\n",
    "    output_path=f\"s3://{bucket}/vit-output/\", # 출력 경로는 구분을 위해 변경하는 것을 권장\n",
    "    base_job_name=\"vit-b16-skin\",\n",
    ")\n",
    "\n",
    "# 데이터 입력 경로는 기존과 동일합니다.\n",
    "inputs = {\n",
    "    \"train\": TrainingInput(f\"s3://{bucket}/densenet-training-data/train\"),\n",
    "    \"val\":   TrainingInput(f\"s3://{bucket}/densenet-training-data/val\"),\n",
    "    \"test\":  TrainingInput(f\"s3://{bucket}/densenet-training-data/test\"),\n",
    "}\n",
    "\n",
    "# 훈련 직업 이름을 생성하고 훈련을 시작합니다.\n",
    "job_name = f\"vit-b16-skin-job-{time.strftime('%Y-%m-%d-%H-%M-%S')}\"\n",
    "est.fit(inputs, job_name=job_name, logs=True)\n",
    "\n",
    "print(\"model_data:\", est.model_data)"
   ]
  }
 ],
 "metadata": {
  "kernelspec": {
   "display_name": "conda_python3",
   "language": "python",
   "name": "conda_python3"
  },
  "language_info": {
   "codemirror_mode": {
    "name": "ipython",
    "version": 3
   },
   "file_extension": ".py",
   "mimetype": "text/x-python",
   "name": "python",
   "nbconvert_exporter": "python",
   "pygments_lexer": "ipython3",
   "version": "3.10.18"
  }
 },
 "nbformat": 4,
 "nbformat_minor": 5
}
