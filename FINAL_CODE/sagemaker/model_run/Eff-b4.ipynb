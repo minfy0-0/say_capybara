{
 "cells": [
  {
   "cell_type": "code",
   "execution_count": null,
   "id": "9ca8a11e-4768-4a82-8b7c-3baa69333987",
   "metadata": {},
   "outputs": [],
   "source": [
    "import sagemaker\n",
    "from sagemaker.pytorch import PyTorch\n",
    "from sagemaker.inputs import TrainingInput\n",
    "from sagemaker import get_execution_role\n",
    "import time\n",
    "\n",
    "bucket = \"say1-5team-bucket\"\n",
    "role = get_execution_role()\n",
    "\n",
    "est = PyTorch(\n",
    "    entry_point=\"train-eff-b4.py\",          # 방금 저장한 B4 지원 train.py\n",
    "    source_dir=\".\",\n",
    "    role=role,\n",
    "    framework_version=\"2.1\",\n",
    "    py_version=\"py310\",\n",
    "    instance_count=1,\n",
    "    instance_type=\"ml.g4dn.2xlarge\",  # 16GB VRAM\n",
    "    hyperparameters={\n",
    "        \"backbone\": \"efficientnet_b4\",\n",
    "        \"epochs\": 20,\n",
    "        \"freeze-epochs\": 2,\n",
    "        \"img-size\": 380,             # B4 권장 해상도\n",
    "        \"batch-size\": 16,            # g4dn.2xlarge 안전 권장\n",
    "        \"lr\": 3e-4,\n",
    "        \"weight-decay\": 3e-4,\n",
    "        \"dropout\": 0.2,            # ← 여기만 바꾸면 됨\n",
    "        \"label-smoothing\": 0.05,\n",
    "        \"seed\": 42,\n",
    "    },\n",
    "    output_path=f\"s3://{bucket}/densenet-output/\",\n",
    "    base_job_name=\"effnetb4-skin\",\n",
    ")\n",
    "\n",
    "inputs = {\n",
    "    \"train\": TrainingInput(f\"s3://{bucket}/densenet-training-data/train\"),\n",
    "    \"val\":   TrainingInput(f\"s3://{bucket}/densenet-training-data/val\"),\n",
    "    \"test\":  TrainingInput(f\"s3://{bucket}/densenet-training-data/test\"),\n",
    "}\n",
    "\n",
    "job_name = f\"effnetb4-skin-job-test-{time.strftime('%Y-%m-%d-%H-%M-%S')}\"\n",
    "est.fit(inputs, job_name=job_name, logs=True)\n",
    "print(\"model_data:\", est.model_data)"
   ]
  },
  {
   "cell_type": "code",
   "execution_count": null,
   "id": "d8105ddc-f9f8-4704-88c0-9c920467110b",
   "metadata": {
    "scrolled": true
   },
   "outputs": [],
   "source": [
    "# ⛓️ 재접속 + 상태/로그 보기\n",
    "import boto3, sagemaker\n",
    "from sagemaker.estimator import Estimator\n",
    "\n",
    "# job_name = \"densenet121-skin-job-2025-08-25-02-02-44\"\n",
    "region   = \"ap-northeast-2\"  # 서울\n",
    "\n",
    "boto_sess = boto3.Session(region_name=region)\n",
    "sm        = boto_sess.client(\"sagemaker\")\n",
    "sess      = sagemaker.Session(boto_session=boto_sess)\n",
    "\n",
    "# 1) 상태 확인\n",
    "desc = sm.describe_training_job(TrainingJobName=job_name)\n",
    "print(\"Status:\", desc[\"TrainingJobStatus\"])\n",
    "print(\"Secondary:\", desc[\"SecondaryStatus\"])\n",
    "print(\"ModelArtifacts:\", desc[\"ModelArtifacts\"][\"S3ModelArtifacts\"])\n",
    "print(\"FailureReason:\", desc.get(\"FailureReason\"))\n",
    "\n",
    "# 2) 로그 재스트리밍 (끝까지)\n",
    "print(\"\\n--- Streaming logs ---\")\n",
    "sess.logs_for_job(job_name, wait=True)\n"
   ]
  }
 ],
 "metadata": {
  "kernelspec": {
   "display_name": "conda_tensorflow2_p310",
   "language": "python",
   "name": "conda_tensorflow2_p310"
  },
  "language_info": {
   "codemirror_mode": {
    "name": "ipython",
    "version": 3
   },
   "file_extension": ".py",
   "mimetype": "text/x-python",
   "name": "python",
   "nbconvert_exporter": "python",
   "pygments_lexer": "ipython3",
   "version": "3.10.18"
  }
 },
 "nbformat": 4,
 "nbformat_minor": 5
}
