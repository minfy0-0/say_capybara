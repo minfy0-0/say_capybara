{
 "cells": [
  {
   "cell_type": "code",
   "execution_count": null,
   "id": "e5b02675-097a-4b99-ba58-925ebe7ecb00",
   "metadata": {},
   "outputs": [],
   "source": [
    "import sagemaker\n",
    "from sagemaker.pytorch import PyTorch\n",
    "from sagemaker.inputs import TrainingInput\n",
    "from sagemaker import get_execution_role\n",
    "import time\n",
    "\n",
    "bucket = \"say1-5team-bucket\"\n",
    "role = get_execution_role()\n",
    "\n",
    "est = PyTorch(\n",
    "    entry_point=\"train-eff-b4.py\",          # 방금 저장한 B4 지원 train.py\n",
    "    source_dir=\".\",\n",
    "    role=role,\n",
    "    framework_version=\"2.1\",\n",
    "    py_version=\"py310\",\n",
    "    instance_count=1,\n",
    "    instance_type=\"ml.g4dn.2xlarge\",  # 16GB VRAM\n",
    "    hyperparameters={\n",
    "        \"backbone\": \"efficientnet_b3\",\n",
    "        \"epochs\": 30,\n",
    "        \"freeze-epochs\": 2,\n",
    "        \"img-size\": 380,             # B4 권장 해상도\n",
    "        \"batch-size\": 16,            # g4dn.2xlarge 안전 권장\n",
    "        \"lr\": 3e-4,\n",
    "        \"weight-decay\": 1e-4,\n",
    "        \"label-smoothing\": 0.05,\n",
    "        \"seed\": 42,\n",
    "    },\n",
    "    output_path=f\"s3://{bucket}/densenet-output/\",\n",
    "    base_job_name=\"effnetb4-skin\",\n",
    ")\n",
    "\n",
    "inputs = {\n",
    "    \"train\": TrainingInput(f\"s3://{bucket}/densenet-training-data/train\"),\n",
    "    \"val\":   TrainingInput(f\"s3://{bucket}/densenet-training-data/val\"),\n",
    "    \"test\":  TrainingInput(f\"s3://{bucket}/densenet-training-data/test\"),\n",
    "}\n",
    "\n",
    "job_name = f\"effnetb3-skin-job-{time.strftime('%Y-%m-%d-%H-%M-%S')}\"\n",
    "est.fit(inputs, job_name=job_name, logs=True)\n",
    "print(\"model_data:\", est.model_data)"
   ]
  }
 ],
 "metadata": {
  "kernelspec": {
   "display_name": "conda_python3",
   "language": "python",
   "name": "conda_python3"
  },
  "language_info": {
   "codemirror_mode": {
    "name": "ipython",
    "version": 3
   },
   "file_extension": ".py",
   "mimetype": "text/x-python",
   "name": "python",
   "nbconvert_exporter": "python",
   "pygments_lexer": "ipython3",
   "version": "3.10.18"
  }
 },
 "nbformat": 4,
 "nbformat_minor": 5
}
