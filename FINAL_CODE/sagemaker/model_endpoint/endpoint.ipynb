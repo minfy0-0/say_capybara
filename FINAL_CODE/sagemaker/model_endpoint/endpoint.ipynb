{
 "cells": [
  {
   "cell_type": "code",
   "execution_count": null,
   "id": "ea60e9aa-e30f-4019-ae4d-4e6fbd38c9b2",
   "metadata": {
    "scrolled": true
   },
   "outputs": [],
   "source": [
    "import sagemaker, boto3\n",
    "from sagemaker.pytorch import PyTorch\n",
    "\n",
    "job_name = \"effnetb4-skin-job-test-2025-08-28-04-02-01\"\n",
    "\n",
    "# 상태만 빠르게 체크\n",
    "sm = boto3.client(\"sagemaker\")\n",
    "print(sm.describe_training_job(TrainingJobName=job_name)[\"TrainingJobStatus\"])\n",
    "\n",
    "# 로그 스트리밍 (기존 잡에 attach)\n",
    "sess = sagemaker.Session()\n",
    "est = PyTorch.attach(training_job_name=job_name, sagemaker_session=sess)\n",
    "est.latest_training_job.wait(logs=True)  # 여기서 CloudWatch 로그가 쭉 출력됨"
   ]
  },
  {
   "cell_type": "code",
   "execution_count": null,
   "id": "72ee08b1-4da7-4efa-8e6a-608951263adf",
   "metadata": {},
   "outputs": [],
   "source": [
    "from sagemaker.pytorch import PyTorchModel\n",
    "from sagemaker.serializers import IdentitySerializer\n",
    "from sagemaker.deserializers import JSONDeserializer\n",
    "from sagemaker import get_execution_role\n",
    "import time\n",
    "\n",
    "from sagemaker.pytorch import PyTorchModel\n",
    "\n",
    "role = get_execution_role()\n",
    "\n",
    "model = PyTorchModel(\n",
    "    model_data=\"s3://say1-5team-bucket/densenet-output/effnetb4-skin-job-test-2025-08-28-04-02-01/output/model.tar.gz\",\n",
    "    role=role,\n",
    "    entry_point=\"inference.py\",\n",
    "    source_dir=\".\",\n",
    "    framework_version=\"2.1\",\n",
    "    py_version=\"py310\",\n",
    ")\n",
    "\n",
    "endpoint_name = f\"say1-5team-skin-endpoint-{time.strftime('%Y-%m-%d-%H-%M-%S')}\"\n",
    "predictor = model.deploy(\n",
    "    initial_instance_count=1,\n",
    "    instance_type=\"ml.g4dn.xlarge\",\n",
    "    endpoint_name=endpoint_name,\n",
    "    tags=[{\"Key\":\"project\",\"Value\":\"pre-5team\"}],\n",
    ")\n",
    "\n",
    "predictor.serializer = IdentitySerializer(\"image/jpeg\")\n",
    "predictor.deserializer = JSONDeserializer()\n",
    "print(\"✅ Endpoint:\", predictor.endpoint_name)\n"
   ]
  },
  {
   "cell_type": "code",
   "execution_count": null,
   "id": "e1a9bebe-d518-4d24-a4ce-dd400a7b8085",
   "metadata": {},
   "outputs": [],
   "source": []
  }
 ],
 "metadata": {
  "kernelspec": {
   "display_name": "conda_tensorflow2_p310",
   "language": "python",
   "name": "conda_tensorflow2_p310"
  },
  "language_info": {
   "codemirror_mode": {
    "name": "ipython",
    "version": 3
   },
   "file_extension": ".py",
   "mimetype": "text/x-python",
   "name": "python",
   "nbconvert_exporter": "python",
   "pygments_lexer": "ipython3",
   "version": "3.10.18"
  }
 },
 "nbformat": 4,
 "nbformat_minor": 5
}
